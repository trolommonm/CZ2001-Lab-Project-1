{
 "cells": [
  {
   "cell_type": "code",
   "execution_count": 1,
   "metadata": {},
   "outputs": [],
   "source": [
    "# import libraries used for empirical analysis\n",
    "import matplotlib.pyplot as plt\n",
    "import numpy as np \n",
    "from timeit import Timer\n",
    "\n",
    "# import alogrithms used in the project\n",
    "from kmp import kmpStringMatcher\n",
    "from naive import naiveStringMatcher"
   ]
  },
  {
   "cell_type": "code",
   "execution_count": 2,
   "metadata": {},
   "outputs": [],
   "source": [
    "# open the dna sequence file and clean it by removing unnecessary lines and '\\n' characters\n",
    "fnaFile = open('GCF_000023605.1_ASM2360v1_genomic.fna')\n",
    "dnaSequence = ''.join(fnaFile.readlines()[1:])\n",
    "dnaSequence = dnaSequence.replace('\\n', '')"
   ]
  },
  {
   "cell_type": "code",
   "execution_count": 3,
   "metadata": {},
   "outputs": [],
   "source": [
    "# we will be doing an empirical analysis by fixing the pattern to be searched \n",
    "# in this case, the pattern to be searched is 'ATCAGGCTA'\n",
    "# we will vary the length of the text which the pattern will need to be searched in \n",
    "# by splitting the DNA sequence string into 20 different lengths\n",
    "\n",
    "# we will run the search process for 10 times for each length of text \n",
    "NUM_OF_TIMES = 10\n",
    "\n",
    "pattern = 'ATCAGGCTA'\n",
    "\n",
    "increment = len(dnaSequence) // 20\n",
    "lengthsOfText = []\n",
    "for i in range(1, 21):\n",
    "    if i == 20:\n",
    "        lengthsOfText.append(len(dnaSequence))\n",
    "    else:\n",
    "        lengthsOfText.append(i * increment)"
   ]
  },
  {
   "cell_type": "code",
   "execution_count": 4,
   "metadata": {},
   "outputs": [
    {
     "name": "stdout",
     "output_type": "stream",
     "text": [
      "Length of text: 243145, Average Execution Time: 0.08273899650000001\n",
      "Length of text: 486290, Average Execution Time: 0.16880083510000005\n",
      "Length of text: 729435, Average Execution Time: 0.2535511381000001\n",
      "Length of text: 972580, Average Execution Time: 0.3356010727000001\n",
      "Length of text: 1215725, Average Execution Time: 0.41557482060000017\n",
      "Length of text: 1458870, Average Execution Time: 0.4863852816999998\n",
      "Length of text: 1702015, Average Execution Time: 0.5877350616000001\n",
      "Length of text: 1945160, Average Execution Time: 0.6847493904\n",
      "Length of text: 2188305, Average Execution Time: 0.7560391811999999\n",
      "Length of text: 2431450, Average Execution Time: 0.8284669477000002\n",
      "Length of text: 2674595, Average Execution Time: 0.9319799580999998\n",
      "Length of text: 2917740, Average Execution Time: 0.9716780515000003\n",
      "Length of text: 3160885, Average Execution Time: 1.0769965130000003\n",
      "Length of text: 3404030, Average Execution Time: 1.1270448979000007\n",
      "Length of text: 3647175, Average Execution Time: 1.1983001259999995\n",
      "Length of text: 3890320, Average Execution Time: 1.284208816799999\n",
      "Length of text: 4133465, Average Execution Time: 1.3481239386000012\n",
      "Length of text: 4376610, Average Execution Time: 1.455927051499998\n",
      "Length of text: 4619755, Average Execution Time: 1.5238317888000013\n",
      "Length of text: 4862913, Average Execution Time: 1.657199482499999\n"
     ]
    }
   ],
   "source": [
    "# analysis for Naive (Brute-Force) algorithm\n",
    "\n",
    "# run the search process for 10 times, then take the average, for each length of text\n",
    "naiveExecutionTimes = []\n",
    "for idx, length in enumerate(lengthsOfText):\n",
    "    t = Timer(lambda: naiveStringMatcher(dnaSequence[:length], pattern)) \n",
    "    executionTime = t.timeit(number=NUM_OF_TIMES) / NUM_OF_TIMES\n",
    "    \n",
    "    print(\"Length of text: \" + str(length) + \", Average Execution Time: \" + str(executionTime))\n",
    "    \n",
    "    naiveExecutionTimes.append(executionTime)"
   ]
  },
  {
   "cell_type": "code",
   "execution_count": 5,
   "metadata": {},
   "outputs": [
    {
     "name": "stdout",
     "output_type": "stream",
     "text": [
      "Length of text: 243145, Average Execution Time: 0.0502332335999995\n",
      "Length of text: 486290, Average Execution Time: 0.10096340030000021\n",
      "Length of text: 729435, Average Execution Time: 0.1511901457999983\n",
      "Length of text: 972580, Average Execution Time: 0.19857125349999763\n",
      "Length of text: 1215725, Average Execution Time: 0.24756364309999981\n",
      "Length of text: 1458870, Average Execution Time: 0.2914525228000002\n",
      "Length of text: 1702015, Average Execution Time: 0.3411311318999992\n",
      "Length of text: 1945160, Average Execution Time: 0.3923885618999975\n",
      "Length of text: 2188305, Average Execution Time: 0.4556407815\n",
      "Length of text: 2431450, Average Execution Time: 0.4987185894999982\n",
      "Length of text: 2674595, Average Execution Time: 0.5345001433999983\n",
      "Length of text: 2917740, Average Execution Time: 0.5712246258000022\n",
      "Length of text: 3160885, Average Execution Time: 0.6389760119999977\n",
      "Length of text: 3404030, Average Execution Time: 0.6913370952999998\n",
      "Length of text: 3647175, Average Execution Time: 0.748210188600001\n",
      "Length of text: 3890320, Average Execution Time: 0.8212380459000002\n",
      "Length of text: 4133465, Average Execution Time: 0.8529555928000008\n",
      "Length of text: 4376610, Average Execution Time: 0.8933477121999971\n",
      "Length of text: 4619755, Average Execution Time: 0.9502577124000027\n",
      "Length of text: 4862913, Average Execution Time: 0.9766055155999993\n"
     ]
    }
   ],
   "source": [
    "# analysis for Knuth-Morris-Pratt (KMP) algorithm\n",
    "\n",
    "# run the search process for 10 times, then take the average, for each length of text\n",
    "kmpExecutionTimes = []\n",
    "for idx, length in enumerate(lengthsOfText):\n",
    "    t = Timer(lambda: kmpStringMatcher(dnaSequence[:length], pattern)) \n",
    "    executionTime = t.timeit(number=NUM_OF_TIMES) / NUM_OF_TIMES\n",
    "    \n",
    "    print(\"Length of text: \" + str(length) + \", Average Execution Time: \" + str(executionTime))\n",
    "    \n",
    "    kmpExecutionTimes.append(executionTime)"
   ]
  },
  {
   "cell_type": "code",
   "execution_count": 6,
   "metadata": {},
   "outputs": [
    {
     "data": {
      "text/plain": [
       "Text(0, 0.5, 'Execution Times (s)')"
      ]
     },
     "execution_count": 6,
     "metadata": {},
     "output_type": "execute_result"
    },
    {
     "data": {
      "image/png": "[encoded data removed]",
      "text/plain": [
       "<Figure size 1152x576 with 1 Axes>"
      ]
     },
     "metadata": {
      "needs_background": "light"
     },
     "output_type": "display_data"
    }
   ],
   "source": [
    "# plot the execution time against length of text for both KMP and Naive\n",
    "\n",
    "f, ax = plt.subplots(figsize=(16, 8))\n",
    "plt.scatter(lengthsOfText, naiveExecutionTimes, color='red')\n",
    "plt.scatter(lengthsOfText, kmpExecutionTimes, color='blue')\n",
    "\n",
    "plt.xlabel('Length of text')\n",
    "plt.ylabel('Execution Times (s)')"
   ]
  },
  {
   "cell_type": "code",
   "execution_count": null,
   "metadata": {},
   "outputs": [],
   "source": [
    "# not yet completed\n",
    "def rabin_karp_string_matcher(text, pattern):\n",
    "    indexes = []\n",
    "    m = len(pattern)\n",
    "    n = len(text)\n",
    "    d = 26\n",
    "    p = 5381\n",
    "    \n",
    "    # compute hash value for the pattern\n",
    "    patternHash = 0\n",
    "    for i in range(0, m):\n",
    "        patternHash += (ord(pattern[i]) - ord('A') + 1) * d ** (m - 1 - i)\n",
    "    patternHash = patternHash % p\n",
    "    \n",
    "    # compute hash value for first window\n",
    "    windowHash = 0\n",
    "    for i in range(0, m):\n",
    "        windowHash += (ord(text[i]) - ord('A') + 1) * d ** (m - 1 - i)\n",
    "    windowHash = windowHash % p\n",
    "    \n",
    "    for i in range(0, n - m + 1):\n",
    "        if windowHash == patternHash:\n",
    "            for j in range(0, m):\n",
    "                if pattern[j] == text[i + j]:\n",
    "                    if j == m - 1:\n",
    "                        indexes.append(i)\n",
    "                else:\n",
    "                    break\n",
    "        else:\n",
    "            windowHash = (((windowHash - (ord(text[i]) - ord('A') + 1) * d ** (m - 1) % p) * d) % p + (ord(text[i + m]) - ord('A') + 1)) % p\n",
    "            \n",
    "    return indexes"
   ]
  },
  {
   "cell_type": "code",
   "execution_count": null,
   "metadata": {},
   "outputs": [],
   "source": [
    "rabin_karp_string_matcher(\"ABCDEFGABCDABCDBBBCBDBEWRERBB\", \"ABCD\")"
   ]
  },
  {
   "cell_type": "code",
   "execution_count": null,
   "metadata": {},
   "outputs": [],
   "source": []
  }
 ],
 "metadata": {
  "kernelspec": {
   "display_name": "Python 3",
   "language": "python",
   "name": "python3"
  },
  "language_info": {
   "codemirror_mode": {
    "name": "ipython",
    "version": 3
   },
   "file_extension": ".py",
   "mimetype": "text/x-python",
   "name": "python",
   "nbconvert_exporter": "python",
   "pygments_lexer": "ipython3",
   "version": "3.7.4"
  }
 },
 "nbformat": 4,
 "nbformat_minor": 2
}
