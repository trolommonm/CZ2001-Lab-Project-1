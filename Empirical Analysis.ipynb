{
 "cells": [
  {
   "cell_type": "code",
   "execution_count": 1,
   "metadata": {},
   "outputs": [],
   "source": [
    "# import libraries used for empirical analysis\n",
    "import matplotlib.pyplot as plt\n",
    "import numpy as np \n",
    "from timeit import Timer\n",
    "\n",
    "# import alogrithms used in the project\n",
    "from algo.kmp import kmpStringMatcher\n",
    "from algo.naive import naiveStringMatcher"
   ]
  },
  {
   "cell_type": "code",
   "execution_count": 2,
   "metadata": {},
   "outputs": [],
   "source": [
    "# open the dna sequence file and clean it by removing unnecessary lines and '\\n' characters\n",
    "fnaFile = open('DnaData/GCF_000023605.1_ASM2360v1_genomic.fna')\n",
    "dnaSequence = ''.join(fnaFile.readlines()[1:])\n",
    "dnaSequence = dnaSequence.replace('\\n', '')"
   ]
  },
  {
   "cell_type": "code",
   "execution_count": 3,
   "metadata": {},
   "outputs": [],
   "source": [
    "# we will be doing an empirical analysis by fixing the pattern to be searched \n",
    "# in this case, the pattern to be searched is 'ATCAGGCTA'\n",
    "# we will vary the length of the text which the pattern will need to be searched in \n",
    "# by splitting the DNA sequence string into 20 different lengths\n",
    "\n",
    "# we will run the search process for 10 times for each length of text \n",
    "NUM_OF_TIMES = 10\n",
    "\n",
    "pattern = 'ATCAGGCTA'\n",
    "\n",
    "increment = len(dnaSequence) // 20\n",
    "lengthsOfText = []\n",
    "for i in range(1, 21):\n",
    "    if i == 20:\n",
    "        lengthsOfText.append(len(dnaSequence))\n",
    "    else:\n",
    "        lengthsOfText.append(i * increment)"
   ]
  },
  {
   "cell_type": "code",
   "execution_count": 4,
   "metadata": {},
   "outputs": [
    {
     "name": "stdout",
     "output_type": "stream",
     "text": [
      "Length of text: 243145, Average Execution Time: 0.0889470193\n",
      "Length of text: 486290, Average Execution Time: 0.175430806\n",
      "Length of text: 729435, Average Execution Time: 0.2493096155\n",
      "Length of text: 972580, Average Execution Time: 0.3347569242\n",
      "Length of text: 1215725, Average Execution Time: 0.4270913965\n",
      "Length of text: 1458870, Average Execution Time: 0.5116297394999998\n",
      "Length of text: 1702015, Average Execution Time: 0.5669370308999998\n",
      "Length of text: 1945160, Average Execution Time: 0.6445931172000001\n",
      "Length of text: 2188305, Average Execution Time: 0.7219163080000002\n",
      "Length of text: 2431450, Average Execution Time: 0.7998312835999997\n",
      "Length of text: 2674595, Average Execution Time: 0.8827170766999999\n",
      "Length of text: 2917740, Average Execution Time: 1.0131837646999997\n",
      "Length of text: 3160885, Average Execution Time: 1.0407764674000006\n",
      "Length of text: 3404030, Average Execution Time: 1.123059782700001\n",
      "Length of text: 3647175, Average Execution Time: 1.2061824431000006\n",
      "Length of text: 3890320, Average Execution Time: 1.3458004316\n",
      "Length of text: 4133465, Average Execution Time: 1.4575597335000012\n",
      "Length of text: 4376610, Average Execution Time: 1.5415570435999997\n",
      "Length of text: 4619755, Average Execution Time: 1.552558038700002\n",
      "Length of text: 4862913, Average Execution Time: 1.6840599123000004\n"
     ]
    }
   ],
   "source": [
    "# analysis for Naive (Brute-Force) algorithm\n",
    "\n",
    "# run the search process for 10 times, then take the average, for each length of text\n",
    "naiveExecutionTimes = []\n",
    "for idx, length in enumerate(lengthsOfText):\n",
    "    t = Timer(lambda: naiveStringMatcher(dnaSequence[:length], pattern)) \n",
    "    executionTime = t.timeit(number=NUM_OF_TIMES) / NUM_OF_TIMES\n",
    "    \n",
    "    print(\"Length of text: \" + str(length) + \", Average Execution Time: \" + str(executionTime))\n",
    "    \n",
    "    naiveExecutionTimes.append(executionTime)"
   ]
  },
  {
   "cell_type": "code",
   "execution_count": null,
   "metadata": {},
   "outputs": [
    {
     "name": "stdout",
     "output_type": "stream",
     "text": [
      "Length of text: 243145, Average Execution Time: 0.05032005249999827\n",
      "Length of text: 486290, Average Execution Time: 0.0973352110999997\n",
      "Length of text: 729435, Average Execution Time: 0.14899099480000189\n",
      "Length of text: 972580, Average Execution Time: 0.19425768440000013\n",
      "Length of text: 1215725, Average Execution Time: 0.24137473330000034\n",
      "Length of text: 1458870, Average Execution Time: 0.2981328616000013\n",
      "Length of text: 1702015, Average Execution Time: 0.33798843950000046\n",
      "Length of text: 1945160, Average Execution Time: 0.3839591177000017\n",
      "Length of text: 2188305, Average Execution Time: 0.4349917160999979\n",
      "Length of text: 2431450, Average Execution Time: 0.4763439954000006\n",
      "Length of text: 2674595, Average Execution Time: 0.5343107220999996\n",
      "Length of text: 2917740, Average Execution Time: 0.5892041734000003\n",
      "Length of text: 3160885, Average Execution Time: 0.6617219946999995\n",
      "Length of text: 3404030, Average Execution Time: 0.709331077500002\n",
      "Length of text: 3647175, Average Execution Time: 0.7808911618999985\n",
      "Length of text: 3890320, Average Execution Time: 0.8798205057000018\n",
      "Length of text: 4133465, Average Execution Time: 0.8932467250999991\n",
      "Length of text: 4376610, Average Execution Time: 0.9250364661999981\n"
     ]
    }
   ],
   "source": [
    "# analysis for Knuth-Morris-Pratt (KMP) algorithm\n",
    "\n",
    "# run the search process for 10 times, then take the average, for each length of text\n",
    "kmpExecutionTimes = []\n",
    "for idx, length in enumerate(lengthsOfText):\n",
    "    t = Timer(lambda: kmpStringMatcher(dnaSequence[:length], pattern)) \n",
    "    executionTime = t.timeit(number=NUM_OF_TIMES) / NUM_OF_TIMES\n",
    "    \n",
    "    print(\"Length of text: \" + str(length) + \", Average Execution Time: \" + str(executionTime))\n",
    "    \n",
    "    kmpExecutionTimes.append(executionTime)"
   ]
  },
  {
   "cell_type": "code",
   "execution_count": null,
   "metadata": {},
   "outputs": [],
   "source": [
    "# plot the execution time against length of text for both KMP and Naive\n",
    "\n",
    "f, ax = plt.subplots(figsize=(16, 8))\n",
    "plt.scatter(lengthsOfText, naiveExecutionTimes, color='red')\n",
    "plt.scatter(lengthsOfText, kmpExecutionTimes, color='blue')\n",
    "\n",
    "plt.xlabel('Length of text')\n",
    "plt.ylabel('Execution Times (s)')"
   ]
  },
  {
   "cell_type": "code",
   "execution_count": null,
   "metadata": {},
   "outputs": [],
   "source": [
    "# not yet completed\n",
    "def rabin_karp_string_matcher(text, pattern):\n",
    "    indexes = []\n",
    "    m = len(pattern)\n",
    "    n = len(text)\n",
    "    d = 26\n",
    "    p = 5381\n",
    "    \n",
    "    # compute hash value for the pattern\n",
    "    patternHash = 0\n",
    "    for i in range(0, m):\n",
    "        patternHash += (ord(pattern[i]) - ord('A') + 1) * d ** (m - 1 - i)\n",
    "    patternHash = patternHash % p\n",
    "    \n",
    "    # compute hash value for first window\n",
    "    windowHash = 0\n",
    "    for i in range(0, m):\n",
    "        windowHash += (ord(text[i]) - ord('A') + 1) * d ** (m - 1 - i)\n",
    "    windowHash = windowHash % p\n",
    "    \n",
    "    for i in range(0, n - m + 1):\n",
    "        if windowHash == patternHash:\n",
    "            for j in range(0, m):\n",
    "                if pattern[j] == text[i + j]:\n",
    "                    if j == m - 1:\n",
    "                        indexes.append(i)\n",
    "                else:\n",
    "                    break\n",
    "        else:\n",
    "            windowHash = (((windowHash - (ord(text[i]) - ord('A') + 1) * d ** (m - 1) % p) * d) % p + (ord(text[i + m]) - ord('A') + 1)) % p\n",
    "            \n",
    "    return indexes"
   ]
  },
  {
   "cell_type": "code",
   "execution_count": null,
   "metadata": {},
   "outputs": [],
   "source": [
    "rabin_karp_string_matcher(\"ABCDEFGABCDABCDBBBCBDBEWRERBB\", \"ABCD\")"
   ]
  }
 ],
 "metadata": {
  "kernelspec": {
   "display_name": "Python 3",
   "language": "python",
   "name": "python3"
  },
  "language_info": {
   "codemirror_mode": {
    "name": "ipython",
    "version": 3
   },
   "file_extension": ".py",
   "mimetype": "text/x-python",
   "name": "python",
   "nbconvert_exporter": "python",
   "pygments_lexer": "ipython3",
   "version": "3.7.4"
  }
 },
 "nbformat": 4,
 "nbformat_minor": 2
}
