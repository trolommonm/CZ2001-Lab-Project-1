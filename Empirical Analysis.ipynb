{
 "cells": [
  {
   "cell_type": "code",
   "execution_count": 8,
   "metadata": {},
   "outputs": [],
   "source": [
    "# import libraries used for empirical analysis\n",
    "import matplotlib.pyplot as plt\n",
    "import numpy as np \n",
    "from timeit import Timer\n",
    "\n",
    "# import alogrithms used in the project\n",
    "from algo.kmp import kmpStringMatcher\n",
    "from algo.naive import naiveStringMatcher\n",
    "from algo.bmh import boyerMooreHorspoolStringMatcher"
   ]
  },
  {
   "cell_type": "code",
   "execution_count": 9,
   "metadata": {},
   "outputs": [],
   "source": [
    "# open the dna sequence file and clean it by removing unnecessary lines and '\\n' characters\n",
    "fnaFile = open('DnaData/wuhan.fasta')\n",
    "dnaSequence = ''.join(fnaFile.readlines()[1:])\n",
    "dnaSequence = dnaSequence.replace('\\n', '')"
   ]
  },
  {
   "cell_type": "code",
   "execution_count": 10,
   "metadata": {},
   "outputs": [],
   "source": [
    "# we will be doing an empirical analysis by fixing the pattern to be searched \n",
    "# in this case, the pattern to be searched is 'TTTATACCTTCC'\n",
    "# we will vary the length of the text which the pattern will need to be searched in \n",
    "# by splitting the DNA sequence string into 20 different lengths\n",
    "\n",
    "# we will run the search process for 10 times for each length of text \n",
    "NUM_OF_TIMES = 10\n",
    "\n",
    "#pattern = 'AACGGTATGCTG'\n",
    "pattern = 'TTTATACCTTCC'\n",
    "\n",
    "increment = len(dnaSequence) // 20\n",
    "lengthsOfText = []\n",
    "for i in range(1, 21):\n",
    "    if i == 20:\n",
    "        lengthsOfText.append(len(dnaSequence))\n",
    "    else:\n",
    "        lengthsOfText.append(i * increment)"
   ]
  },
  {
   "cell_type": "code",
   "execution_count": 11,
   "metadata": {
    "scrolled": true
   },
   "outputs": [
    {
     "name": "stdout",
     "output_type": "stream",
     "text": [
      "Length of text: 1495, Average Execution Time: 0.000738312400005725\n",
      "Length of text: 2990, Average Execution Time: 0.0014580656000021009\n",
      "Length of text: 4485, Average Execution Time: 0.0017335233999915545\n",
      "Length of text: 5980, Average Execution Time: 0.002032512899995709\n",
      "Length of text: 7475, Average Execution Time: 0.0025412071999994625\n",
      "Length of text: 8970, Average Execution Time: 0.0031486657000073135\n",
      "Length of text: 10465, Average Execution Time: 0.003582187100005285\n",
      "Length of text: 11960, Average Execution Time: 0.004235754299998007\n",
      "Length of text: 13455, Average Execution Time: 0.004703127799996309\n",
      "Length of text: 14950, Average Execution Time: 0.005387309900004311\n",
      "Length of text: 16445, Average Execution Time: 0.005933881099997507\n",
      "Length of text: 17940, Average Execution Time: 0.006569265500002075\n",
      "Length of text: 19435, Average Execution Time: 0.007221244499999102\n",
      "Length of text: 20930, Average Execution Time: 0.00764339890000656\n",
      "Length of text: 22425, Average Execution Time: 0.007811703800007308\n",
      "Length of text: 23920, Average Execution Time: 0.008342900299999201\n",
      "Length of text: 25415, Average Execution Time: 0.008813225800008696\n",
      "Length of text: 26910, Average Execution Time: 0.009173110699998687\n",
      "Length of text: 28405, Average Execution Time: 0.010007871200002683\n",
      "Length of text: 29903, Average Execution Time: 0.010230524999997215\n"
     ]
    }
   ],
   "source": [
    "# analysis for Naive (Brute-Force) algorithm\n",
    "\n",
    "# run the search process for 10 times, then take the average, for each length of text\n",
    "naiveExecutionTimes = []\n",
    "for idx, length in enumerate(lengthsOfText):\n",
    "    t = Timer(lambda: naiveStringMatcher(dnaSequence[:length], pattern)) \n",
    "    executionTime = t.timeit(number=NUM_OF_TIMES) / NUM_OF_TIMES\n",
    "    \n",
    "    print(\"Length of text: \" + str(length) + \", Average Execution Time: \" + str(executionTime))\n",
    "    \n",
    "    naiveExecutionTimes.append(executionTime)"
   ]
  },
  {
   "cell_type": "code",
   "execution_count": 12,
   "metadata": {},
   "outputs": [
    {
     "name": "stdout",
     "output_type": "stream",
     "text": [
      "Length of text: 1495, Average Execution Time: 0.00046832530000529005\n",
      "Length of text: 2990, Average Execution Time: 0.0008491130000038538\n",
      "Length of text: 4485, Average Execution Time: 0.0011711988000001838\n",
      "Length of text: 5980, Average Execution Time: 0.0013174198000001525\n",
      "Length of text: 7475, Average Execution Time: 0.0017029449000006025\n",
      "Length of text: 8970, Average Execution Time: 0.0018896465000011631\n",
      "Length of text: 10465, Average Execution Time: 0.0021920071999943502\n",
      "Length of text: 11960, Average Execution Time: 0.002612183200005802\n",
      "Length of text: 13455, Average Execution Time: 0.0027815344000032384\n",
      "Length of text: 14950, Average Execution Time: 0.0031510898999954407\n",
      "Length of text: 16445, Average Execution Time: 0.003371936200005621\n",
      "Length of text: 17940, Average Execution Time: 0.0036876895999967017\n",
      "Length of text: 19435, Average Execution Time: 0.004144402999997965\n",
      "Length of text: 20930, Average Execution Time: 0.004214056599994365\n",
      "Length of text: 22425, Average Execution Time: 0.004520849499999713\n",
      "Length of text: 23920, Average Execution Time: 0.004814388399995551\n",
      "Length of text: 25415, Average Execution Time: 0.0051733817000013\n",
      "Length of text: 26910, Average Execution Time: 0.005825772399998641\n",
      "Length of text: 28405, Average Execution Time: 0.005795760499995595\n",
      "Length of text: 29903, Average Execution Time: 0.0061139100999980656\n"
     ]
    }
   ],
   "source": [
    "# analysis for Knuth-Morris-Pratt (KMP) algorithm\n",
    "\n",
    "# run the search process for 10 times, then take the average, for each length of text\n",
    "kmpExecutionTimes = []\n",
    "for idx, length in enumerate(lengthsOfText):\n",
    "    t = Timer(lambda: kmpStringMatcher(dnaSequence[:length], pattern)) \n",
    "    executionTime = t.timeit(number=NUM_OF_TIMES) / NUM_OF_TIMES\n",
    "    \n",
    "    print(\"Length of text: \" + str(length) + \", Average Execution Time: \" + str(executionTime))\n",
    "    \n",
    "    kmpExecutionTimes.append(executionTime)"
   ]
  },
  {
   "cell_type": "code",
   "execution_count": 14,
   "metadata": {},
   "outputs": [
    {
     "name": "stdout",
     "output_type": "stream",
     "text": [
      "Length of text: 1495, Average Execution Time: 0.00018465090000745475\n",
      "Length of text: 2990, Average Execution Time: 0.00035742720000371265\n",
      "Length of text: 4485, Average Execution Time: 0.0005751285000087592\n",
      "Length of text: 5980, Average Execution Time: 0.0007702579000010701\n",
      "Length of text: 7475, Average Execution Time: 0.0009180970000102207\n",
      "Length of text: 8970, Average Execution Time: 0.0009965124000018478\n",
      "Length of text: 10465, Average Execution Time: 0.0009894993999978396\n",
      "Length of text: 11960, Average Execution Time: 0.0011521887000071728\n",
      "Length of text: 13455, Average Execution Time: 0.0012612579999995432\n",
      "Length of text: 14950, Average Execution Time: 0.0014046623000012915\n",
      "Length of text: 16445, Average Execution Time: 0.0015110890999949333\n",
      "Length of text: 17940, Average Execution Time: 0.001783585700002277\n",
      "Length of text: 19435, Average Execution Time: 0.0018602944000008393\n",
      "Length of text: 20930, Average Execution Time: 0.00199046239999916\n",
      "Length of text: 22425, Average Execution Time: 0.002117348599995239\n",
      "Length of text: 23920, Average Execution Time: 0.0023399433999998108\n",
      "Length of text: 25415, Average Execution Time: 0.0024222723999969276\n",
      "Length of text: 26910, Average Execution Time: 0.00263263869999264\n",
      "Length of text: 28405, Average Execution Time: 0.0028162989000065862\n",
      "Length of text: 29903, Average Execution Time: 0.002912580899999284\n"
     ]
    }
   ],
   "source": [
    "# analysis for Boyer-Moore-Horsepool (BMH) algorithm\n",
    "\n",
    "# run the search process for 10 times, then take the average, for each length of text\n",
    "bmhExecutionTimes = []\n",
    "for idx, length in enumerate(lengthsOfText):\n",
    "    t = Timer(lambda: boyerMooreHorspoolStringMatcher(dnaSequence[:length], pattern)) \n",
    "    executionTime = t.timeit(number=NUM_OF_TIMES) / NUM_OF_TIMES\n",
    "    \n",
    "    print(\"Length of text: \" + str(length) + \", Average Execution Time: \" + str(executionTime))\n",
    "    \n",
    "    bmhExecutionTimes.append(executionTime)"
   ]
  },
  {
   "cell_type": "code",
   "execution_count": 15,
   "metadata": {},
   "outputs": [
    {
     "data": {
      "text/plain": [
       "<matplotlib.legend.Legend at 0x122b7e350>"
      ]
     },
     "execution_count": 15,
     "metadata": {},
     "output_type": "execute_result"
    },
    {
     "data": {
      "image/png": "[encoded data removed]",
      "text/plain": [
       "<Figure size 1152x576 with 1 Axes>"
      ]
     },
     "metadata": {
      "needs_background": "light"
     },
     "output_type": "display_data"
    }
   ],
   "source": [
    "# plot the execution time against length of text for both KMP and Naive\n",
    "\n",
    "f, ax = plt.subplots(figsize=(16, 8))\n",
    "plt.scatter(lengthsOfText, naiveExecutionTimes, color='red', label='Naive (Brute-Force)')\n",
    "plt.scatter(lengthsOfText, kmpExecutionTimes, color='blue', label='Knuth-Morris-Pratt')\n",
    "plt.scatter(lengthsOfText, bmhExecutionTimes, color='green', label='Boyer-Moore-Horsepool')\n",
    "\n",
    "plt.xlabel('Length of text')\n",
    "plt.ylabel('Execution Times (s)')\n",
    "plt.legend()"
   ]
  },
  {
   "cell_type": "code",
   "execution_count": 16,
   "metadata": {},
   "outputs": [],
   "source": [
    "# change pattern and dna sequence dataset \n",
    "\n",
    "fnaFile = open('DnaData/GCF_000023605.1_ASM2360v1_genomic.fna')\n",
    "dnaSequence = ''.join(fnaFile.readlines()[1:])\n",
    "dnaSequence = dnaSequence.replace('\\n', '')\n",
    "\n",
    "pattern = 'ATCAGGCTA'"
   ]
  },
  {
   "cell_type": "code",
   "execution_count": 17,
   "metadata": {},
   "outputs": [],
   "source": [
    "increment = len(dnaSequence) // 20\n",
    "lengthsOfText = []\n",
    "for i in range(1, 21):\n",
    "    if i == 20:\n",
    "        lengthsOfText.append(len(dnaSequence))\n",
    "    else:\n",
    "        lengthsOfText.append(i * increment)"
   ]
  },
  {
   "cell_type": "code",
   "execution_count": 18,
   "metadata": {},
   "outputs": [
    {
     "name": "stdout",
     "output_type": "stream",
     "text": [
      "Length of text: 243145, Average Execution Time: 0.08159972700000254\n",
      "Length of text: 486290, Average Execution Time: 0.1640764119000096\n",
      "Length of text: 729435, Average Execution Time: 0.24475506119999862\n",
      "Length of text: 972580, Average Execution Time: 0.3322189527000091\n",
      "Length of text: 1215725, Average Execution Time: 0.4177698000999953\n",
      "Length of text: 1458870, Average Execution Time: 0.4966638934000002\n",
      "Length of text: 1702015, Average Execution Time: 0.5716213733999893\n",
      "Length of text: 1945160, Average Execution Time: 0.6557532793000064\n",
      "Length of text: 2188305, Average Execution Time: 0.7381753986000149\n",
      "Length of text: 2431450, Average Execution Time: 0.8278858841000101\n",
      "Length of text: 2674595, Average Execution Time: 0.899391343100001\n",
      "Length of text: 2917740, Average Execution Time: 0.9743467094999915\n",
      "Length of text: 3160885, Average Execution Time: 1.0746517971000003\n",
      "Length of text: 3404030, Average Execution Time: 1.1589794640000037\n",
      "Length of text: 3647175, Average Execution Time: 1.2475568621000093\n",
      "Length of text: 3890320, Average Execution Time: 1.3101414330999888\n",
      "Length of text: 4133465, Average Execution Time: 1.3662073205999832\n",
      "Length of text: 4376610, Average Execution Time: 1.4833876839999902\n",
      "Length of text: 4619755, Average Execution Time: 1.5490214270000024\n",
      "Length of text: 4862913, Average Execution Time: 1.623470469899985\n"
     ]
    }
   ],
   "source": [
    "# analysis for Naive (Brute-Force) algorithm\n",
    "\n",
    "# run the search process for 10 times, then take the average, for each length of text\n",
    "naiveExecutionTimes = []\n",
    "for idx, length in enumerate(lengthsOfText):\n",
    "    t = Timer(lambda: naiveStringMatcher(dnaSequence[:length], pattern)) \n",
    "    executionTime = t.timeit(number=NUM_OF_TIMES) / NUM_OF_TIMES\n",
    "    \n",
    "    print(\"Length of text: \" + str(length) + \", Average Execution Time: \" + str(executionTime))\n",
    "    \n",
    "    naiveExecutionTimes.append(executionTime)"
   ]
  },
  {
   "cell_type": "code",
   "execution_count": 19,
   "metadata": {},
   "outputs": [
    {
     "name": "stdout",
     "output_type": "stream",
     "text": [
      "Length of text: 243145, Average Execution Time: 0.04698772169999756\n",
      "Length of text: 486290, Average Execution Time: 0.09079413239999212\n",
      "Length of text: 729435, Average Execution Time: 0.141388192300019\n",
      "Length of text: 972580, Average Execution Time: 0.18550643590001528\n",
      "Length of text: 1215725, Average Execution Time: 0.23256327429999146\n",
      "Length of text: 1458870, Average Execution Time: 0.27666677530000927\n",
      "Length of text: 1702015, Average Execution Time: 0.32802339150000537\n",
      "Length of text: 1945160, Average Execution Time: 0.37303678690000197\n",
      "Length of text: 2188305, Average Execution Time: 0.41971822140001225\n",
      "Length of text: 2431450, Average Execution Time: 0.47897617019998506\n",
      "Length of text: 2674595, Average Execution Time: 0.5232626168000024\n",
      "Length of text: 2917740, Average Execution Time: 0.5571493920999956\n",
      "Length of text: 3160885, Average Execution Time: 0.6098185597000111\n",
      "Length of text: 3404030, Average Execution Time: 0.6697738632999972\n",
      "Length of text: 3647175, Average Execution Time: 0.7327790342999834\n",
      "Length of text: 3890320, Average Execution Time: 0.7612068696999813\n",
      "Length of text: 4133465, Average Execution Time: 0.8124233898000057\n",
      "Length of text: 4376610, Average Execution Time: 0.8549359900999889\n",
      "Length of text: 4619755, Average Execution Time: 0.9036750973999915\n",
      "Length of text: 4862913, Average Execution Time: 0.9556511893999868\n"
     ]
    }
   ],
   "source": [
    "# analysis for Knuth-Morris-Pratt (KMP) algorithm\n",
    "\n",
    "# run the search process for 10 times, then take the average, for each length of text\n",
    "kmpExecutionTimes = []\n",
    "for idx, length in enumerate(lengthsOfText):\n",
    "    t = Timer(lambda: kmpStringMatcher(dnaSequence[:length], pattern)) \n",
    "    executionTime = t.timeit(number=NUM_OF_TIMES) / NUM_OF_TIMES\n",
    "    \n",
    "    print(\"Length of text: \" + str(length) + \", Average Execution Time: \" + str(executionTime))\n",
    "    \n",
    "    kmpExecutionTimes.append(executionTime)"
   ]
  },
  {
   "cell_type": "code",
   "execution_count": 20,
   "metadata": {},
   "outputs": [
    {
     "name": "stdout",
     "output_type": "stream",
     "text": [
      "Length of text: 243145, Average Execution Time: 0.07391791039999589\n",
      "Length of text: 486290, Average Execution Time: 0.14453282719998697\n",
      "Length of text: 729435, Average Execution Time: 0.21850188109999635\n",
      "Length of text: 972580, Average Execution Time: 0.2925654185999974\n",
      "Length of text: 1215725, Average Execution Time: 0.3649720307000052\n",
      "Length of text: 1458870, Average Execution Time: 0.4337619853999968\n",
      "Length of text: 1702015, Average Execution Time: 0.5062814573000196\n",
      "Length of text: 1945160, Average Execution Time: 0.5758845659000145\n",
      "Length of text: 2188305, Average Execution Time: 0.6689530818999856\n",
      "Length of text: 2431450, Average Execution Time: 0.7544545514999982\n",
      "Length of text: 2674595, Average Execution Time: 0.8182573195000031\n",
      "Length of text: 2917740, Average Execution Time: 0.8958528152999861\n",
      "Length of text: 3160885, Average Execution Time: 0.9961462019999999\n",
      "Length of text: 3404030, Average Execution Time: 1.0868128486999922\n",
      "Length of text: 3647175, Average Execution Time: 1.1410566308999932\n",
      "Length of text: 3890320, Average Execution Time: 1.2362727791999988\n",
      "Length of text: 4133465, Average Execution Time: 1.3332666019000043\n",
      "Length of text: 4376610, Average Execution Time: 1.3697939194000128\n",
      "Length of text: 4619755, Average Execution Time: 1.4350814128000138\n",
      "Length of text: 4862913, Average Execution Time: 1.5148000633000038\n"
     ]
    }
   ],
   "source": [
    "# analysis for Boyer-Moore-Horsepool (BMH) algorithm\n",
    "\n",
    "# run the search process for 10 times, then take the average, for each length of text\n",
    "bmhExecutionTimes = []\n",
    "for idx, length in enumerate(lengthsOfText):\n",
    "    t = Timer(lambda: boyerMooreHorspoolStringMatcher(dnaSequence[:length], pattern)) \n",
    "    executionTime = t.timeit(number=NUM_OF_TIMES) / NUM_OF_TIMES\n",
    "    \n",
    "    print(\"Length of text: \" + str(length) + \", Average Execution Time: \" + str(executionTime))\n",
    "    \n",
    "    bmhExecutionTimes.append(executionTime)"
   ]
  },
  {
   "cell_type": "code",
   "execution_count": 21,
   "metadata": {},
   "outputs": [
    {
     "data": {
      "text/plain": [
       "<matplotlib.legend.Legend at 0x1232a4cd0>"
      ]
     },
     "execution_count": 21,
     "metadata": {},
     "output_type": "execute_result"
    },
    {
     "data": {
      "image/png": "[encoded data removed]",
      "text/plain": [
       "<Figure size 1152x576 with 1 Axes>"
      ]
     },
     "metadata": {
      "needs_background": "light"
     },
     "output_type": "display_data"
    }
   ],
   "source": [
    "# plot the execution time against length of text for both KMP and Naive\n",
    "\n",
    "f, ax = plt.subplots(figsize=(16, 8))\n",
    "plt.scatter(lengthsOfText, naiveExecutionTimes, color='red', label='Naive (Brute-Force)')\n",
    "plt.scatter(lengthsOfText, kmpExecutionTimes, color='blue', label='Knuth-Morris-Pratt')\n",
    "plt.scatter(lengthsOfText, bmhExecutionTimes, color='green', label='Boyer-Moore-Horsepool')\n",
    "\n",
    "plt.xlabel('Length of text')\n",
    "plt.ylabel('Execution Times (s)')\n",
    "plt.legend()"
   ]
  },
  {
   "cell_type": "code",
   "execution_count": null,
   "metadata": {},
   "outputs": [],
   "source": []
  }
 ],
 "metadata": {
  "kernelspec": {
   "display_name": "Python 3",
   "language": "python",
   "name": "python3"
  },
  "language_info": {
   "codemirror_mode": {
    "name": "ipython",
    "version": 3
   },
   "file_extension": ".py",
   "mimetype": "text/x-python",
   "name": "python",
   "nbconvert_exporter": "python",
   "pygments_lexer": "ipython3",
   "version": "3.7.4"
  }
 },
 "nbformat": 4,
 "nbformat_minor": 2
}
